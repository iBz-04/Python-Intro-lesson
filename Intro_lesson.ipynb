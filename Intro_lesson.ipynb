{
  "cells": [
    {
      "cell_type": "markdown",
      "metadata": {},
      "source": [
        "- Installing Python:\n",
        "  - Windows: Download from python.org, run the installer, and ensure you add Python to your PATH.\n",
        "  - Mac: Use Homebrew or download from python.org.\n",
        "  - \n",
        "- Development Environment:\n",
        "  -  IDLE: Comes with Python, great for beginners.\n",
        "  -  PyCharm/VSCode: Powerful editors with additional features\n",
        "\n",
        " Lets write our first python program:"
      ]
    },
    {
      "cell_type": "code",
      "execution_count": null,
      "metadata": {},
      "outputs": [],
      "source": []
    },
    {
      "cell_type": "code",
      "execution_count": null,
      "metadata": {
        "editable": true,
        "slideshow": {
          "slide_type": ""
        },
        "tags": [],
        "trusted": true
      },
      "outputs": [],
      "source": [
        "print(\"Hello, World!\")"
      ]
    },
    {
      "cell_type": "markdown",
      "metadata": {},
      "source": [
        "Basic Concepts\n",
        "- Syntax: The rules that define the structure of Python code.\n",
        "- Comments: Notes in your code to explain what it does. In Python, use # for single-line comments."
      ]
    },
    {
      "cell_type": "code",
      "execution_count": null,
      "metadata": {
        "trusted": true
      },
      "outputs": [],
      "source": [
        " # This is a comment"
      ]
    },
    {
      "cell_type": "markdown",
      "metadata": {},
      "source": [
        "Exercises:\n",
        "1. Install Python and run a simple program that prints your name.\n",
        "2. Write a comment in your code explaining what it does."
      ]
    },
    {
      "cell_type": "markdown",
      "metadata": {},
      "source": [
        "Numbers and Arithmetic Operations\n",
        "- Integers: Whole numbers, e.g., 1, 2, 3.\n",
        "- Floats: Numbers with decimal points, e.g., 1.5, 2.7.\n",
        "- Arithmetic Operations:\n",
        "  - Addition: +\n",
        "  - Subtraction: -\n",
        "  - Multiplication: *\n",
        "  - Division: /\n",
        "  - Exponentiation: **\n",
        "  - Modulus: %"
      ]
    },
    {
      "cell_type": "markdown",
      "metadata": {},
      "source": [
        "Strings\n",
        "- Creating Strings:"
      ]
    },
    {
      "cell_type": "code",
      "execution_count": null,
      "metadata": {
        "trusted": true
      },
      "outputs": [],
      "source": [
        "my_string = \"Hello\""
      ]
    },
    {
      "cell_type": "markdown",
      "metadata": {},
      "source": [
        "- Manipulating Strings:"
      ]
    },
    {
      "cell_type": "code",
      "execution_count": null,
      "metadata": {
        "trusted": true
      },
      "outputs": [],
      "source": [
        "  upper_string = my_string.upper()  # Converts to uppercase"
      ]
    },
    {
      "cell_type": "markdown",
      "metadata": {},
      "source": [
        "Variables:\n",
        "Naming Conventions: Use descriptive names (e.g., total_cost, user_name)."
      ]
    },
    {
      "cell_type": "code",
      "execution_count": null,
      "metadata": {
        "trusted": true
      },
      "outputs": [],
      "source": [
        " age = 25"
      ]
    },
    {
      "cell_type": "markdown",
      "metadata": {},
      "source": [
        "Exercises:\n",
        "1. Perform arithmetic operations and print the results.\n",
        "2. Create a string variable, manipulate it (e.g., convert to uppercase), and print it."
      ]
    },
    {
      "cell_type": "markdown",
      "metadata": {},
      "source": [
        "Conditional Statements*\n",
        "- if, else:"
      ]
    },
    {
      "cell_type": "code",
      "execution_count": null,
      "metadata": {
        "trusted": true
      },
      "outputs": [],
      "source": [
        " age = 18\n",
        "  if age >= 18:\n",
        "      print(\"You are an adult.\")\n",
        "  else:\n",
        "      print(\"You are a child.\")"
      ]
    },
    {
      "cell_type": "markdown",
      "metadata": {},
      "source": [
        "Exercises:\n",
        "1. Write a program that checks if a number is positive, negative"
      ]
    }
  ],
  "metadata": {
    "kernelspec": {
      "display_name": "Python 3",
      "language": "python",
      "name": "python3"
    },
    "language_info": {
      "codemirror_mode": {
        "name": "python",
        "version": 3
      },
      "file_extension": ".py",
      "mimetype": "text/x-python",
      "name": "python",
      "nbconvert_exporter": "python",
      "pygments_lexer": "ipython3",
      "version": "3.12.4"
    }
  },
  "nbformat": 4,
  "nbformat_minor": 4
}
