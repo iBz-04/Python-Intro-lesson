{
 "cells": [
  {
   "cell_type": "markdown",
   "id": "bdc4946b-43bb-4bf3-aff0-4473917363ae",
   "metadata": {},
   "source": [
    "Understanding Data Types in Python\n",
    "\n",
    "In Python, data types are the classification of data items. Python has several built-in data types, and each type has its own rules and properties. Here are the main data types you'll encounter:"
   ]
  },
  {
   "cell_type": "markdown",
   "id": "3c517d1d-033b-4f36-b600-37a1e4227fd5",
   "metadata": {},
   "source": [
    "Integers (int): Whole numbers without a fractional part."
   ]
  },
  {
   "cell_type": "code",
   "execution_count": null,
   "id": "6f223503-048d-4567-b0ef-a9280921ff65",
   "metadata": {},
   "outputs": [],
   "source": [
    "  a = 10\n",
    "  b = -5"
   ]
  },
  {
   "cell_type": "markdown",
   "id": "b4691206-dac4-479d-8246-970988b794e6",
   "metadata": {},
   "source": [
    "Floating-Point Numbers (float): Numbers with a decimal point."
   ]
  },
  {
   "cell_type": "code",
   "execution_count": null,
   "id": "610b839e-2aad-4fe0-9a88-65e796302f8d",
   "metadata": {},
   "outputs": [],
   "source": [
    "c = 3.14\n",
    "d = -2.718"
   ]
  },
  {
   "cell_type": "markdown",
   "id": "71c65dee-bac3-4d5c-a6e9-3392a19a2e64",
   "metadata": {},
   "source": [
    "Strings (str): A sequence of characters enclosed in quotes (single or double)."
   ]
  },
  {
   "cell_type": "code",
   "execution_count": null,
   "id": "11a02d7b-164e-4345-8c1d-df2103ef4127",
   "metadata": {},
   "outputs": [],
   "source": [
    "e = \"hello\"\n",
    "f = 'world'"
   ]
  },
  {
   "cell_type": "markdown",
   "id": "11d6d922-27be-4b28-aa32-741ef5319290",
   "metadata": {},
   "source": [
    "Booleans (bool): Represents True or False."
   ]
  },
  {
   "cell_type": "code",
   "execution_count": null,
   "id": "0cabcdce-064d-4f5e-9264-87c02861afbf",
   "metadata": {},
   "outputs": [],
   "source": [
    "g = True\n",
    "h = False"
   ]
  },
  {
   "cell_type": "markdown",
   "id": "703f383c-186f-47a0-821e-8b1562732a61",
   "metadata": {},
   "source": [
    "Lists (list): Ordered collection of items which can be of different types. Lists are mutable, meaning you can change their content."
   ]
  },
  {
   "cell_type": "code",
   "execution_count": null,
   "id": "6cf01916-c907-4246-a64b-9dcdaa865ba0",
   "metadata": {},
   "outputs": [],
   "source": [
    "i = [1, 2, 3, \"four\", 5.0]"
   ]
  },
  {
   "cell_type": "markdown",
   "id": "b5073df7-02be-4188-b059-fa4ea0febfa6",
   "metadata": {},
   "source": [
    "Tuples (tuple): Ordered collection of items which can be of different types. Tuples are immutable, meaning once created, their content cannot be changed."
   ]
  },
  {
   "cell_type": "code",
   "execution_count": null,
   "id": "0c0364f6-9657-4ee5-a05b-1d1da03ec914",
   "metadata": {},
   "outputs": [],
   "source": [
    "j = (1, 2, 3, \"four\", 5.0)"
   ]
  },
  {
   "cell_type": "markdown",
   "id": "2f1b384a-9f37-4633-93f5-1911dc108e84",
   "metadata": {},
   "source": [
    "Sets (set): Unordered collections of unique items, enclosed in curly braces."
   ]
  },
  {
   "cell_type": "code",
   "execution_count": null,
   "id": "d9ea428d-c587-4522-be66-9e9f75710f53",
   "metadata": {},
   "outputs": [],
   "source": [
    "y = {1, 2, 3}\n",
    "z = {'apple', 'banana'}"
   ]
  },
  {
   "cell_type": "markdown",
   "id": "0eaebb7e-fc24-405e-bbc1-6b031e4af940",
   "metadata": {},
   "source": [
    "Dictionaries (dict): Collection of key-value pairs. Each key is unique and used to access its corresponding value."
   ]
  },
  {
   "cell_type": "code",
   "execution_count": null,
   "id": "70f54597-562e-4d91-a417-411ef1a5e4a3",
   "metadata": {},
   "outputs": [],
   "source": [
    "k = {\"name\": \"Alice\", \"age\": 25}"
   ]
  },
  {
   "cell_type": "markdown",
   "id": "ee9a9d72-c6aa-4b1b-9912-70b9613b401f",
   "metadata": {},
   "source": [
    "Type Conversion in Python\n",
    "\n",
    "Type conversion is the process of converting one data type to another. This is also known as type casting. \n",
    "Python provides several built-in functions for type conversion:"
   ]
  },
  {
   "cell_type": "markdown",
   "id": "f097113d-212c-491a-abf7-6cfbc81f8c0c",
   "metadata": {},
   "source": [
    "Converting to an Integer (int):"
   ]
  },
  {
   "cell_type": "code",
   "execution_count": null,
   "id": "fd68e335-07dd-4488-a81e-b76892bca674",
   "metadata": {},
   "outputs": [],
   "source": [
    "x = int(3.14)  \n",
    "y = int(\"10\")"
   ]
  },
  {
   "cell_type": "markdown",
   "id": "4052458b-105f-46da-96f5-c3123e37bfe9",
   "metadata": {},
   "source": [
    "Converting to a Float (float):"
   ]
  },
  {
   "cell_type": "code",
   "execution_count": null,
   "id": "c1875e75-0380-47b2-81d6-33e31b62d2c1",
   "metadata": {},
   "outputs": [],
   "source": [
    " z = float(10)  # Converts int to float, result is 10.0\n",
    " w = float(\"3.14\") # Converts string to float, result is 3.14"
   ]
  },
  {
   "cell_type": "markdown",
   "id": "e4a6b768-6418-4006-bf4f-f2c0ac4d0757",
   "metadata": {},
   "source": [
    "Converting to a String (str):"
   ]
  },
  {
   "cell_type": "code",
   "execution_count": null,
   "id": "2951a0a5-dd97-4fbd-a9a0-948158cdeeb1",
   "metadata": {},
   "outputs": [],
   "source": [
    "a = str(10)  # Converts int to string, result is \"10\"\n",
    "b = str(3.14)  # Converts float to string, result is \"3.14\""
   ]
  },
  {
   "cell_type": "markdown",
   "id": "35a18d94-d299-4ebe-a12b-8d5d895e3532",
   "metadata": {},
   "source": [
    "Converting to a List (list):"
   ]
  },
  {
   "cell_type": "code",
   "execution_count": null,
   "id": "c2af13c9-f2f5-4bb8-be3d-ed0de39d8eda",
   "metadata": {},
   "outputs": [],
   "source": [
    "c = list((1, 2, 3))  # Converts tuple to list, result is [1, 2, 3]\n",
    "d = list(\"hello\")  # Converts string to list, result is ['h', 'e', 'l', 'l', 'o']"
   ]
  },
  {
   "cell_type": "markdown",
   "id": "12af8d1b-340d-4903-9920-ae614a67ef9f",
   "metadata": {},
   "source": [
    " Practical example to illustrate type conversion:"
   ]
  },
  {
   "cell_type": "code",
   "execution_count": null,
   "id": "c3eff578-1058-41b0-8a05-d3492ac36add",
   "metadata": {},
   "outputs": [],
   "source": [
    "# Let's say we have a string representing a number\n",
    "num_str = \"123\"\n",
    "\n",
    "# Convert the string to an integer\n",
    "num_int = int(num_str)\n",
    "\n",
    "# Now let's add 10 to this integer\n",
    "result = num_int + 10\n",
    "\n",
    "print(result)  # Output will be 133\n",
    "\n",
    "# Convert the integer back to a string\n",
    "result_str = str(result)\n",
    "\n",
    "print(result_str)  # Output will be \"133\""
   ]
  },
  {
   "cell_type": "markdown",
   "id": "583246f8-ec99-4315-9445-f13162246a8a",
   "metadata": {},
   "source": [
    "- Python has various data types like integers, floats, strings, booleans, lists, tuples, and dictionaries.\n",
    "- Type conversion allows you to convert a value from one data type to another.\n",
    "- Use built-in functions like int(), float(), str(), list(), tuple(), and dict() for conversions."
   ]
  }
 ],
 "metadata": {
  "kernelspec": {
   "display_name": "Python 3 (ipykernel)",
   "language": "python",
   "name": "python3"
  },
  "language_info": {
   "codemirror_mode": {
    "name": "ipython",
    "version": 3
   },
   "file_extension": ".py",
   "mimetype": "text/x-python",
   "name": "python",
   "nbconvert_exporter": "python",
   "pygments_lexer": "ipython3",
   "version": "3.12.4"
  }
 },
 "nbformat": 4,
 "nbformat_minor": 5
}
