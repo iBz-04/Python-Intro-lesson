{
 "cells": [
  {
   "cell_type": "markdown",
   "id": "bdc4946b-43bb-4bf3-aff0-4473917363ae",
   "metadata": {},
   "source": [
    "Conditional Statements\n",
    "Conditional statements allow us to execute certain pieces of code based on certain conditions. The basic conditional statements in Python are if, elif, and else.\n",
    "\n",
    "If Statement\n",
    "The if statement checks a condition and executes the code block inside it if the condition is True."
   ]
  },
  {
   "cell_type": "code",
   "execution_count": null,
   "id": "b38b4a9f-3fe2-4a49-b847-f672ef1dc007",
   "metadata": {},
   "outputs": [],
   "source": [
    "if condition:\n",
    "    # code to execute if condition is True"
   ]
  },
  {
   "cell_type": "code",
   "execution_count": null,
   "id": "6f223503-048d-4567-b0ef-a9280921ff65",
   "metadata": {},
   "outputs": [],
   "source": [
    "age = 18\n",
    "\n",
    "if age >= 18:\n",
    "    print(\"You are an adult.\")"
   ]
  },
  {
   "cell_type": "markdown",
   "id": "b4691206-dac4-479d-8246-970988b794e6",
   "metadata": {},
   "source": [
    "Working mechanism:\n",
    "Python checks if the condition (age >= 18) is True.\n",
    "If it is True, it runs the code inside the if block (print(\"You are an adult.\"))."
   ]
  },
  {
   "cell_type": "markdown",
   "id": "acf0f396-4c73-4bf5-8897-31c88ba6338b",
   "metadata": {},
   "source": [
    "Elif Statement\n",
    "The elif (short for \"else if\") statement allows us to check multiple conditions."
   ]
  },
  {
   "cell_type": "code",
   "execution_count": null,
   "id": "11a02d7b-164e-4345-8c1d-df2103ef4127",
   "metadata": {},
   "outputs": [],
   "source": [
    "if condition1:\n",
    "    # code to execute if condition1 is True\n",
    "elif condition2:\n",
    "    # code to execute if condition2 is True"
   ]
  },
  {
   "cell_type": "code",
   "execution_count": null,
   "id": "a75c5de6-eace-4c32-85a2-2b9139b84062",
   "metadata": {},
   "outputs": [],
   "source": [
    "age = 16\n",
    "\n",
    "if age >= 18:\n",
    "    print(\"You are an adult.\")\n",
    "elif age >= 13:\n",
    "    print(\"You are a teenager.\")\n"
   ]
  },
  {
   "cell_type": "markdown",
   "id": "11d6d922-27be-4b28-aa32-741ef5319290",
   "metadata": {},
   "source": [
    "How it works:\n",
    "\n",
    "Python checks the first condition (age >= 18).\n",
    "If it is False, it moves to the elif condition (age >= 13).\n",
    "If the elif condition is True, it runs the code inside the elif block."
   ]
  },
  {
   "cell_type": "markdown",
   "id": "703f383c-186f-47a0-821e-8b1562732a61",
   "metadata": {},
   "source": [
    "Else Statement\n",
    "The else statement is used to execute a block of code if none of the previous conditions are True."
   ]
  },
  {
   "cell_type": "code",
   "execution_count": null,
   "id": "0cabcdce-064d-4f5e-9264-87c02861afbf",
   "metadata": {},
   "outputs": [],
   "source": [
    "if condition1:\n",
    "    # code to execute if condition1 is True\n",
    "elif condition2:\n",
    "    # code to execute if condition2 is True\n",
    "else:\n",
    "    # code to execute if none of the above conditions are True"
   ]
  },
  {
   "cell_type": "code",
   "execution_count": null,
   "id": "6cf01916-c907-4246-a64b-9dcdaa865ba0",
   "metadata": {},
   "outputs": [],
   "source": [
    "age = 10\n",
    "\n",
    "if age >= 18:\n",
    "    print(\"You are an adult.\")\n",
    "elif age >= 13:\n",
    "    print(\"You are a teenager.\")\n",
    "else:\n",
    "    print(\"You are a child.\")"
   ]
  },
  {
   "cell_type": "markdown",
   "id": "b5073df7-02be-4188-b059-fa4ea0febfa6",
   "metadata": {},
   "source": [
    "How it works:\n",
    "\n",
    "Python checks the if condition.\n",
    "If it is False, it checks the elif condition.\n",
    "If both are False, it executes the code inside the else block."
   ]
  },
  {
   "cell_type": "markdown",
   "id": "2f1b384a-9f37-4633-93f5-1911dc108e84",
   "metadata": {},
   "source": [
    "Loops\n",
    "Loops allow us to execute a block of code multiple times. The main types of loops in Python are for loops and while loops.\n",
    "\n",
    "For Loop\n",
    "The for loop is used to iterate over a sequence (like a list, tuple, or string)."
   ]
  },
  {
   "cell_type": "code",
   "execution_count": null,
   "id": "0c0364f6-9657-4ee5-a05b-1d1da03ec914",
   "metadata": {},
   "outputs": [],
   "source": [
    "for item in sequence:\n",
    "    # code to execute for each item in the sequence"
   ]
  },
  {
   "cell_type": "code",
   "execution_count": null,
   "id": "d9ea428d-c587-4522-be66-9e9f75710f53",
   "metadata": {},
   "outputs": [],
   "source": [
    "numbers = [1, 2, 3, 4, 5]\n",
    "\n",
    "for number in numbers:\n",
    "    print(number)"
   ]
  },
  {
   "cell_type": "markdown",
   "id": "0eaebb7e-fc24-405e-bbc1-6b031e4af940",
   "metadata": {},
   "source": [
    "How it works:\n",
    "\n",
    "Python takes each item in the sequence (numbers list) one by one.\n",
    "It assigns the item to the variable (number).\n",
    "It runs the code inside the loop for each item."
   ]
  },
  {
   "cell_type": "markdown",
   "id": "ee9a9d72-c6aa-4b1b-9912-70b9613b401f",
   "metadata": {},
   "source": [
    "While Loop\n",
    "The while loop is used to execute a block of code as long as a condition is True."
   ]
  },
  {
   "cell_type": "code",
   "execution_count": null,
   "id": "70f54597-562e-4d91-a417-411ef1a5e4a3",
   "metadata": {},
   "outputs": [],
   "source": [
    "while condition:\n",
    "    # code to execute as long as condition is True"
   ]
  },
  {
   "cell_type": "code",
   "execution_count": 8,
   "id": "fd68e335-07dd-4488-a81e-b76892bca674",
   "metadata": {},
   "outputs": [
    {
     "name": "stdout",
     "output_type": "stream",
     "text": [
      "0\n",
      "1\n",
      "2\n",
      "3\n",
      "4\n"
     ]
    }
   ],
   "source": [
    "count = 0\n",
    "\n",
    "while count < 5:\n",
    "    print(count)\n",
    "    count += 1"
   ]
  },
  {
   "cell_type": "markdown",
   "id": "f097113d-212c-491a-abf7-6cfbc81f8c0c",
   "metadata": {},
   "source": [
    "How it works:\n",
    "\n",
    "Python checks if the condition (count < 5) is True.\n",
    "If it is True, it runs the code inside the while block.\n",
    "It repeats this process until the condition becomes False."
   ]
  },
  {
   "cell_type": "markdown",
   "id": "4052458b-105f-46da-96f5-c3123e37bfe9",
   "metadata": {},
   "source": [
    "Break and Continue Statements\n",
    "These statements control the flow of loops.\n",
    "\n",
    "Break Statement\n",
    "The break statement is used to exit a loop before it has iterated over all items."
   ]
  },
  {
   "cell_type": "code",
   "execution_count": null,
   "id": "c1875e75-0380-47b2-81d6-33e31b62d2c1",
   "metadata": {},
   "outputs": [],
   "source": [
    "for number in range(10):\n",
    "    if number == 5:\n",
    "        break\n",
    "    print(number)"
   ]
  },
  {
   "cell_type": "markdown",
   "id": "e4a6b768-6418-4006-bf4f-f2c0ac4d0757",
   "metadata": {},
   "source": [
    "How it works:\n",
    "\n",
    "Python iterates over the range (0 to 9).\n",
    "When number equals 5, the break statement stops the loop.\n",
    "It exits the loop, and the program continues with the next section of code."
   ]
  },
  {
   "cell_type": "markdown",
   "id": "ca79b09f-44ff-4d8a-a7c9-5ddb2d8c2eb3",
   "metadata": {},
   "source": [
    "Continue Statement\n",
    "The continue statement is used to skip the current iteration and move to the next iteration of the loop."
   ]
  },
  {
   "cell_type": "code",
   "execution_count": null,
   "id": "c2af13c9-f2f5-4bb8-be3d-ed0de39d8eda",
   "metadata": {},
   "outputs": [],
   "source": [
    "for number in range(10):\n",
    "    if number % 2 == 0:\n",
    "        continue\n",
    "    print(number)"
   ]
  },
  {
   "cell_type": "markdown",
   "id": "35a18d94-d299-4ebe-a12b-8d5d895e3532",
   "metadata": {},
   "source": [
    "How it works:\n",
    "\n",
    "Python iterates over the range (0 to 9).\n",
    "When number is even, the continue statement skips the current iteration.\n",
    "It moves to the next iteration, printing only odd numbers."
   ]
  },
  {
   "cell_type": "markdown",
   "id": "12af8d1b-340d-4903-9920-ae614a67ef9f",
   "metadata": {},
   "source": [
    "Summary: \n",
    "\n",
    "Conditional statements (if, elif, else) let you run code based on conditions.\n",
    "Loops (for, while) let you run code multiple times.\n",
    "Break and continue statements control the flow of loops, allowing you to exit or skip iterations."
   ]
  },
  {
   "cell_type": "markdown",
   "id": "583246f8-ec99-4315-9445-f13162246a8a",
   "metadata": {},
   "source": [
    "- Python has various data types like integers, floats, strings, booleans, lists, tuples, and dictionaries.\n",
    "- Type conversion allows you to convert a value from one data type to another.\n",
    "- Use built-in functions like int(), float(), str(), list(), tuple(), and dict() for conversions."
   ]
  }
 ],
 "metadata": {
  "kernelspec": {
   "display_name": "Python 3 (ipykernel)",
   "language": "python",
   "name": "python3"
  },
  "language_info": {
   "codemirror_mode": {
    "name": "ipython",
    "version": 3
   },
   "file_extension": ".py",
   "mimetype": "text/x-python",
   "name": "python",
   "nbconvert_exporter": "python",
   "pygments_lexer": "ipython3",
   "version": "3.12.4"
  }
 },
 "nbformat": 4,
 "nbformat_minor": 5
}
