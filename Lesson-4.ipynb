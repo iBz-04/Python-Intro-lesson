{
 "cells": [
  {
   "cell_type": "markdown",
   "id": "bdc4946b-43bb-4bf3-aff0-4473917363ae",
   "metadata": {},
   "source": [
    "Python Errors\n",
    "Python errors are messages that Python gives you when something goes wrong in your code.\n",
    "\n",
    "SyntaxError: This happens when you have a typo or incorrect syntax."
   ]
  },
  {
   "cell_type": "code",
   "execution_count": null,
   "id": "b38b4a9f-3fe2-4a49-b847-f672ef1dc007",
   "metadata": {},
   "outputs": [],
   "source": [
    "print(\"Hello world"
   ]
  },
  {
   "cell_type": "code",
   "execution_count": null,
   "id": "6f223503-048d-4567-b0ef-a9280921ff65",
   "metadata": {},
   "outputs": [],
   "source": [
    "SyntaxError: EOL while scanning string literal"
   ]
  },
  {
   "cell_type": "markdown",
   "id": "b4691206-dac4-479d-8246-970988b794e6",
   "metadata": {},
   "source": [
    "IndentationError: This happens when the indentation (spaces or tabs) is incorrect."
   ]
  },
  {
   "cell_type": "code",
   "execution_count": null,
   "id": "11a02d7b-164e-4345-8c1d-df2103ef4127",
   "metadata": {},
   "outputs": [],
   "source": [
    "if True:\n",
    "print(\"Hello\")"
   ]
  },
  {
   "cell_type": "code",
   "execution_count": null,
   "id": "0ae94598-3ed4-48cb-ab81-32bc908b2fd9",
   "metadata": {},
   "outputs": [],
   "source": [
    "IndentationError: expected an indented block"
   ]
  },
  {
   "cell_type": "markdown",
   "id": "11d6d922-27be-4b28-aa32-741ef5319290",
   "metadata": {},
   "source": [
    "NameError: This happens when you try to use a variable that hasn’t been defined."
   ]
  },
  {
   "cell_type": "code",
   "execution_count": null,
   "id": "a75c5de6-eace-4c32-85a2-2b9139b84062",
   "metadata": {},
   "outputs": [],
   "source": [
    "print(x)"
   ]
  },
  {
   "cell_type": "code",
   "execution_count": null,
   "id": "0cabcdce-064d-4f5e-9264-87c02861afbf",
   "metadata": {},
   "outputs": [],
   "source": [
    "NameError: name 'x' is not defined"
   ]
  },
  {
   "cell_type": "markdown",
   "id": "703f383c-186f-47a0-821e-8b1562732a61",
   "metadata": {},
   "source": [
    "TypeError: This happens when an operation is applied to an object of inappropriate type."
   ]
  },
  {
   "cell_type": "code",
   "execution_count": null,
   "id": "6cf01916-c907-4246-a64b-9dcdaa865ba0",
   "metadata": {},
   "outputs": [],
   "source": [
    "print(\"Hello\" + 5)"
   ]
  },
  {
   "cell_type": "code",
   "execution_count": null,
   "id": "9e5ea9ed-7d2b-4623-89c7-4eaafec40e27",
   "metadata": {},
   "outputs": [],
   "source": [
    "TypeError: can only concatenate str (not \"int\") to str"
   ]
  },
  {
   "cell_type": "code",
   "execution_count": null,
   "id": "6d6b6fae-b34d-4c1b-baea-c6baf6b36431",
   "metadata": {},
   "outputs": [],
   "source": [
    "print(\"Hello\" + str(5))"
   ]
  },
  {
   "cell_type": "code",
   "execution_count": null,
   "id": "39125771-d296-4221-9da1-0f44c18ad35d",
   "metadata": {},
   "outputs": [],
   "source": [
    "Hello5"
   ]
  },
  {
   "cell_type": "markdown",
   "id": "b5073df7-02be-4188-b059-fa4ea0febfa6",
   "metadata": {},
   "source": [
    "Keywords: not, and, or\n",
    "These keywords are used to combine conditional statements.\n",
    "\n",
    "not: Inverts the boolean value."
   ]
  },
  {
   "cell_type": "markdown",
   "id": "241c326f-b284-4209-9b4f-3daab1866845",
   "metadata": {},
   "source": [
    "<img src= \"python-logical-operators.webp\">"
   ]
  },
  {
   "cell_type": "code",
   "execution_count": null,
   "id": "80ab6628-bb93-4e43-89f9-a417837bcf1d",
   "metadata": {},
   "outputs": [],
   "source": [
    "door_locked = False\n",
    "if not door_locked:\n",
    "    print(\"You can enter.\")"
   ]
  },
  {
   "cell_type": "code",
   "execution_count": null,
   "id": "0c0364f6-9657-4ee5-a05b-1d1da03ec914",
   "metadata": {},
   "outputs": [],
   "source": [
    "#OUTPUT\n",
    "You can enter."
   ]
  },
  {
   "cell_type": "markdown",
   "id": "395e7131-686c-4400-a2b7-38b7873349c8",
   "metadata": {},
   "source": [
    "and: Both conditions must be true.\n",
    "\n",
    "Example: Checking if you have a ticket and it's a weekday\n",
    "python\n"
   ]
  },
  {
   "cell_type": "code",
   "execution_count": null,
   "id": "d9ea428d-c587-4522-be66-9e9f75710f53",
   "metadata": {},
   "outputs": [],
   "source": [
    "has_ticket = True\n",
    "is_weekday = True\n",
    "if has_ticket and is_weekday:\n",
    "    print(\"You can go to work.\")"
   ]
  },
  {
   "cell_type": "code",
   "execution_count": null,
   "id": "f861a29f-562b-45ca-a74e-9314b49ec01c",
   "metadata": {},
   "outputs": [],
   "source": [
    "#OUTPUT\n",
    "You can go to work."
   ]
  },
  {
   "cell_type": "markdown",
   "id": "0eaebb7e-fc24-405e-bbc1-6b031e4af940",
   "metadata": {},
   "source": [
    "or: At least one condition must be true.\n",
    "Example: Checking if it’s sunny or you have an umbrella"
   ]
  },
  {
   "cell_type": "markdown",
   "id": "ee9a9d72-c6aa-4b1b-9912-70b9613b401f",
   "metadata": {},
   "source": [
    "is_sunny = False\n",
    "has_umbrella = True\n",
    "if is_sunny or has_umbrella:\n",
    "    print(\"You can go outside.\")"
   ]
  },
  {
   "cell_type": "code",
   "execution_count": null,
   "id": "70f54597-562e-4d91-a417-411ef1a5e4a3",
   "metadata": {},
   "outputs": [],
   "source": [
    "#OUTPUT\n",
    "You can go outside."
   ]
  }
 ],
 "metadata": {
  "kernelspec": {
   "display_name": "Python 3 (ipykernel)",
   "language": "python",
   "name": "python3"
  },
  "language_info": {
   "codemirror_mode": {
    "name": "ipython",
    "version": 3
   },
   "file_extension": ".py",
   "mimetype": "text/x-python",
   "name": "python",
   "nbconvert_exporter": "python",
   "pygments_lexer": "ipython3",
   "version": "3.12.4"
  }
 },
 "nbformat": 4,
 "nbformat_minor": 5
}
